{
 "cells": [
  {
   "cell_type": "code",
   "execution_count": 1,
   "id": "e7330756",
   "metadata": {
    "_cell_guid": "b1076dfc-b9ad-4769-8c92-a6c4dae69d19",
    "_uuid": "8f2839f25d086af736a60e9eeb907d3b93b6e0e5",
    "execution": {
     "iopub.execute_input": "2023-11-06T02:33:21.383673Z",
     "iopub.status.busy": "2023-11-06T02:33:21.383156Z",
     "iopub.status.idle": "2023-11-06T02:33:24.189801Z",
     "shell.execute_reply": "2023-11-06T02:33:24.188126Z"
    },
    "papermill": {
     "duration": 2.818903,
     "end_time": "2023-11-06T02:33:24.193062",
     "exception": false,
     "start_time": "2023-11-06T02:33:21.374159",
     "status": "completed"
    },
    "tags": []
   },
   "outputs": [],
   "source": [
    "import pandas as pd\n",
    "import numpy as np\n",
    "import matplotlib.pyplot as plt\n",
    "import seaborn as sns\n",
    "from sklearn.cluster import KMeans"
   ]
  },
  {
   "cell_type": "code",
   "execution_count": 2,
   "id": "374b5aec",
   "metadata": {
    "execution": {
     "iopub.execute_input": "2023-11-06T02:33:24.210776Z",
     "iopub.status.busy": "2023-11-06T02:33:24.210164Z",
     "iopub.status.idle": "2023-11-06T02:33:24.220193Z",
     "shell.execute_reply": "2023-11-06T02:33:24.218691Z"
    },
    "papermill": {
     "duration": 0.021152,
     "end_time": "2023-11-06T02:33:24.222940",
     "exception": true,
     "start_time": "2023-11-06T02:33:24.201788",
     "status": "failed"
    },
    "tags": []
   },
   "outputs": [
    {
     "ename": "SyntaxError",
     "evalue": "invalid syntax (886353291.py, line 1)",
     "output_type": "error",
     "traceback": [
      "\u001b[0;36m  Cell \u001b[0;32mIn[2], line 1\u001b[0;36m\u001b[0m\n\u001b[0;31m    from sklearn.model_selectionsklearn.model_selection importimport train_test_split\u001b[0m\n\u001b[0m                                                        ^\u001b[0m\n\u001b[0;31mSyntaxError\u001b[0m\u001b[0;31m:\u001b[0m invalid syntax\n"
     ]
    }
   ],
   "source": [
    "from sklearn.model_selectionsklearn.model_selection importimport train_test_split\n",
    "fromfrom sklearnsklearn importimport metrics\n",
    "fromfrom sklearn.ensemblesklearn.ensemble importimport RandomForestRegressor\n",
    "fromfrom sklearnsklearn importimport metrics\n",
    "fromfrom sklearnsklearn importimport preprocessing\n",
    "\n",
    "from sklearn.linear_modelsklearn.linear_model importimport LinearRegression\n",
    "metrics.mean_absolute_error(y_test, y_pred)\n",
    "metrics.mean_absolute_percentage_error(y_test, y_pred)\n",
    "metrics.mean_squared_error(y_test, y_pred)\n",
    "np.sqrt(metrics.mean_squared_error(y_test, y_pred))\n",
    "np.sqrt(metrics.r2_score(y_test, y_pred))\n",
    "\n",
    "from sklearn.svmsklearn.svm importimport SVC, LinearSVC\n",
    "fromfrom sklearn.neighborssklearn.neighbors importimport KNeighborsClassifier\n",
    "\n",
    "from sklearn.preprocessing import StandardScaler\n",
    "from sklearn.neighbors import KNeighborsClassifier\n",
    "from sklearn.metrics import confusion_matrix, classification_report, accuracy_score\n",
    "from sklearn import preprocessing"
   ]
  },
  {
   "cell_type": "code",
   "execution_count": null,
   "id": "5b6cc7ed",
   "metadata": {
    "execution": {
     "iopub.execute_input": "2023-11-06T00:47:09.405844Z",
     "iopub.status.busy": "2023-11-06T00:47:09.405381Z",
     "iopub.status.idle": "2023-11-06T00:47:09.508438Z",
     "shell.execute_reply": "2023-11-06T00:47:09.507620Z",
     "shell.execute_reply.started": "2023-11-06T00:47:09.405809Z"
    },
    "papermill": {
     "duration": null,
     "end_time": null,
     "exception": null,
     "start_time": null,
     "status": "pending"
    },
    "tags": []
   },
   "outputs": [],
   "source": [
    "sales=pd.read_csv(\"/kaggle/input/sample-sales-data/sales_data_sample.csv\",encoding='latin')\n",
    "sales"
   ]
  },
  {
   "cell_type": "code",
   "execution_count": null,
   "id": "c8c554b7",
   "metadata": {
    "execution": {
     "iopub.execute_input": "2023-11-06T00:47:26.984624Z",
     "iopub.status.busy": "2023-11-06T00:47:26.984074Z",
     "iopub.status.idle": "2023-11-06T00:47:27.018365Z",
     "shell.execute_reply": "2023-11-06T00:47:27.016939Z",
     "shell.execute_reply.started": "2023-11-06T00:47:26.984580Z"
    },
    "papermill": {
     "duration": null,
     "end_time": null,
     "exception": null,
     "start_time": null,
     "status": "pending"
    },
    "tags": []
   },
   "outputs": [],
   "source": [
    "sales.info()"
   ]
  },
  {
   "cell_type": "code",
   "execution_count": null,
   "id": "9e612b45",
   "metadata": {
    "execution": {
     "iopub.execute_input": "2023-11-06T00:48:35.985178Z",
     "iopub.status.busy": "2023-11-06T00:48:35.984718Z",
     "iopub.status.idle": "2023-11-06T00:48:36.000869Z",
     "shell.execute_reply": "2023-11-06T00:48:35.999622Z",
     "shell.execute_reply.started": "2023-11-06T00:48:35.985145Z"
    },
    "papermill": {
     "duration": null,
     "end_time": null,
     "exception": null,
     "start_time": null,
     "status": "pending"
    },
    "tags": []
   },
   "outputs": [],
   "source": [
    "sales.isna().sum()"
   ]
  },
  {
   "cell_type": "code",
   "execution_count": null,
   "id": "b72fcfd8",
   "metadata": {
    "execution": {
     "iopub.execute_input": "2023-11-06T00:48:37.955177Z",
     "iopub.status.busy": "2023-11-06T00:48:37.954787Z",
     "iopub.status.idle": "2023-11-06T00:48:38.004136Z",
     "shell.execute_reply": "2023-11-06T00:48:38.002561Z",
     "shell.execute_reply.started": "2023-11-06T00:48:37.955146Z"
    },
    "papermill": {
     "duration": null,
     "end_time": null,
     "exception": null,
     "start_time": null,
     "status": "pending"
    },
    "tags": []
   },
   "outputs": [],
   "source": [
    "sales.describe()"
   ]
  },
  {
   "cell_type": "code",
   "execution_count": null,
   "id": "6d7501bd",
   "metadata": {
    "execution": {
     "iopub.execute_input": "2023-11-06T00:48:39.477138Z",
     "iopub.status.busy": "2023-11-06T00:48:39.476712Z",
     "iopub.status.idle": "2023-11-06T00:48:39.482648Z",
     "shell.execute_reply": "2023-11-06T00:48:39.481557Z",
     "shell.execute_reply.started": "2023-11-06T00:48:39.477101Z"
    },
    "papermill": {
     "duration": null,
     "end_time": null,
     "exception": null,
     "start_time": null,
     "status": "pending"
    },
    "tags": []
   },
   "outputs": [],
   "source": [
    "from datetime import datetime\n",
    "#dat=[dates.strip(\"UTC\") for dates in df[\"ORDERDATE\"]]\n",
    "#dat=[dates.strip() for dates in df[\"ORDERDATE\"]]\n",
    "#dat"
   ]
  },
  {
   "cell_type": "code",
   "execution_count": null,
   "id": "d066a27a",
   "metadata": {
    "execution": {
     "iopub.execute_input": "2023-11-06T00:48:49.304854Z",
     "iopub.status.busy": "2023-11-06T00:48:49.304464Z",
     "iopub.status.idle": "2023-11-06T00:48:49.311239Z",
     "shell.execute_reply": "2023-11-06T00:48:49.309763Z",
     "shell.execute_reply.started": "2023-11-06T00:48:49.304825Z"
    },
    "papermill": {
     "duration": null,
     "end_time": null,
     "exception": null,
     "start_time": null,
     "status": "pending"
    },
    "tags": []
   },
   "outputs": [],
   "source": [
    "#[datetime.strptime(dates,'%m/%d/%y %H:%M') for dates in dat]"
   ]
  },
  {
   "cell_type": "code",
   "execution_count": null,
   "id": "6e013389",
   "metadata": {
    "execution": {
     "iopub.execute_input": "2023-11-06T00:48:50.375447Z",
     "iopub.status.busy": "2023-11-06T00:48:50.374970Z",
     "iopub.status.idle": "2023-11-06T00:48:50.381526Z",
     "shell.execute_reply": "2023-11-06T00:48:50.380180Z",
     "shell.execute_reply.started": "2023-11-06T00:48:50.375412Z"
    },
    "papermill": {
     "duration": null,
     "end_time": null,
     "exception": null,
     "start_time": null,
     "status": "pending"
    },
    "tags": []
   },
   "outputs": [],
   "source": [
    "#df['pickup_date']=df['pickup_datetime'].dt.date"
   ]
  },
  {
   "cell_type": "code",
   "execution_count": null,
   "id": "a2a51912",
   "metadata": {
    "execution": {
     "iopub.execute_input": "2023-11-06T00:49:58.150807Z",
     "iopub.status.busy": "2023-11-06T00:49:58.150342Z",
     "iopub.status.idle": "2023-11-06T00:49:58.189962Z",
     "shell.execute_reply": "2023-11-06T00:49:58.188411Z",
     "shell.execute_reply.started": "2023-11-06T00:49:58.150771Z"
    },
    "papermill": {
     "duration": null,
     "end_time": null,
     "exception": null,
     "start_time": null,
     "status": "pending"
    },
    "tags": []
   },
   "outputs": [],
   "source": [
    "df1=sales.drop([\"ORDERDATE\"],axis=1)\n",
    "df"
   ]
  },
  {
   "cell_type": "code",
   "execution_count": null,
   "id": "2a5791c4",
   "metadata": {
    "execution": {
     "iopub.execute_input": "2023-11-06T00:52:12.164175Z",
     "iopub.status.busy": "2023-11-06T00:52:12.163748Z",
     "iopub.status.idle": "2023-11-06T00:52:12.184405Z",
     "shell.execute_reply": "2023-11-06T00:52:12.182973Z",
     "shell.execute_reply.started": "2023-11-06T00:52:12.164141Z"
    },
    "papermill": {
     "duration": null,
     "end_time": null,
     "exception": null,
     "start_time": null,
     "status": "pending"
    },
    "tags": []
   },
   "outputs": [],
   "source": [
    "df=df1[[\"PRICEEACH\",\"MSRP\"]]\n",
    "df"
   ]
  },
  {
   "cell_type": "code",
   "execution_count": null,
   "id": "81587466",
   "metadata": {
    "execution": {
     "iopub.execute_input": "2023-11-06T00:52:17.074319Z",
     "iopub.status.busy": "2023-11-06T00:52:17.073904Z",
     "iopub.status.idle": "2023-11-06T00:52:17.456505Z",
     "shell.execute_reply": "2023-11-06T00:52:17.455674Z",
     "shell.execute_reply.started": "2023-11-06T00:52:17.074288Z"
    },
    "papermill": {
     "duration": null,
     "end_time": null,
     "exception": null,
     "start_time": null,
     "status": "pending"
    },
    "tags": []
   },
   "outputs": [],
   "source": [
    "plt.figure(figsize=(10,6))\n",
    "sns.heatmap(df.corr(),annot=True)"
   ]
  },
  {
   "cell_type": "code",
   "execution_count": null,
   "id": "ac7d556e",
   "metadata": {
    "execution": {
     "iopub.execute_input": "2023-11-06T00:52:34.364655Z",
     "iopub.status.busy": "2023-11-06T00:52:34.364256Z",
     "iopub.status.idle": "2023-11-06T00:52:34.809011Z",
     "shell.execute_reply": "2023-11-06T00:52:34.808122Z",
     "shell.execute_reply.started": "2023-11-06T00:52:34.364623Z"
    },
    "papermill": {
     "duration": null,
     "end_time": null,
     "exception": null,
     "start_time": null,
     "status": "pending"
    },
    "tags": []
   },
   "outputs": [],
   "source": [
    "inertia=[]\n",
    "k=[]\n",
    "for i in range(1,10):\n",
    "    kmeans=KMeans(n_clusters=i,random_state=42)\n",
    "    kmeans.fit(df)\n",
    "    inertia.append(kmeans.inertia_)\n",
    "    k.append(i)"
   ]
  },
  {
   "cell_type": "code",
   "execution_count": null,
   "id": "fc00303b",
   "metadata": {
    "execution": {
     "iopub.execute_input": "2023-11-05T17:43:24.394376Z",
     "iopub.status.busy": "2023-11-05T17:43:24.393973Z",
     "iopub.status.idle": "2023-11-05T17:43:24.402383Z",
     "shell.execute_reply": "2023-11-05T17:43:24.401272Z",
     "shell.execute_reply.started": "2023-11-05T17:43:24.394348Z"
    },
    "papermill": {
     "duration": null,
     "end_time": null,
     "exception": null,
     "start_time": null,
     "status": "pending"
    },
    "tags": []
   },
   "outputs": [],
   "source": [
    "inertia"
   ]
  },
  {
   "cell_type": "code",
   "execution_count": null,
   "id": "4fa30962",
   "metadata": {
    "execution": {
     "iopub.execute_input": "2023-11-04T21:05:36.350743Z",
     "iopub.status.busy": "2023-11-04T21:05:36.350362Z",
     "iopub.status.idle": "2023-11-04T21:05:36.564672Z",
     "shell.execute_reply": "2023-11-04T21:05:36.563393Z",
     "shell.execute_reply.started": "2023-11-04T21:05:36.350715Z"
    },
    "papermill": {
     "duration": null,
     "end_time": null,
     "exception": null,
     "start_time": null,
     "status": "pending"
    },
    "tags": []
   },
   "outputs": [],
   "source": [
    "plt.figure(figsize=(9,5))\n",
    "\n",
    "plt.plot(k,inertia,'bx-')\n",
    "plt.title('Elbow Method')\n",
    "plt.xlabel(\"Number of Clusters\")\n",
    "plt.ylabel(\"WCSS\")\n",
    "\n",
    "plt.show()"
   ]
  },
  {
   "cell_type": "code",
   "execution_count": null,
   "id": "a5d158fd",
   "metadata": {
    "execution": {
     "iopub.execute_input": "2023-11-04T21:31:24.100114Z",
     "iopub.status.busy": "2023-11-04T21:31:24.099746Z",
     "iopub.status.idle": "2023-11-04T21:31:31.060302Z",
     "shell.execute_reply": "2023-11-04T21:31:31.058475Z",
     "shell.execute_reply.started": "2023-11-04T21:31:24.100092Z"
    },
    "papermill": {
     "duration": null,
     "end_time": null,
     "exception": null,
     "start_time": null,
     "status": "pending"
    },
    "tags": []
   },
   "outputs": [],
   "source": [
    "for i in range(1,11):\n",
    "    kmean=KMeans(n_clusters=i,random_state=42)\n",
    "    y_kmean=kmean.fit_predict(df)\n",
    "    y_kmean\n",
    "\n",
    "    plt.figure(figsize=(10,6))\n",
    "    sns.scatterplot(x=df[\"PRICEEACH\"],y=df[\"MSRP\"],hue=y_kmean)\n",
    "    plt.scatter(kmean.cluster_centers_[:, 0], kmean.cluster_centers_[:, 1], c = 'red', label = 'Centroids')\n",
    "    plt.legend()"
   ]
  },
  {
   "cell_type": "code",
   "execution_count": null,
   "id": "0004aad1",
   "metadata": {
    "execution": {
     "iopub.execute_input": "2023-11-04T21:29:15.480140Z",
     "iopub.status.busy": "2023-11-04T21:29:15.479755Z",
     "iopub.status.idle": "2023-11-04T21:29:16.034619Z",
     "shell.execute_reply": "2023-11-04T21:29:16.033948Z",
     "shell.execute_reply.started": "2023-11-04T21:29:15.480113Z"
    },
    "papermill": {
     "duration": null,
     "end_time": null,
     "exception": null,
     "start_time": null,
     "status": "pending"
    },
    "tags": []
   },
   "outputs": [],
   "source": [
    "plt.figure(figsize=(10,6))\n",
    "sns.scatterplot(x=df[\"PRICEEACH\"],y=df[\"MSRP\"],hue=y_kmean)\n",
    "plt.scatter(kmean.cluster_centers_[:, 0], kmean.cluster_centers_[:, 1], c = 'red', label = 'Centroids')\n",
    "plt.legend()"
   ]
  },
  {
   "cell_type": "code",
   "execution_count": null,
   "id": "7138b825",
   "metadata": {
    "papermill": {
     "duration": null,
     "end_time": null,
     "exception": null,
     "start_time": null,
     "status": "pending"
    },
    "tags": []
   },
   "outputs": [],
   "source": []
  }
 ],
 "metadata": {
  "kernelspec": {
   "display_name": "Python 3",
   "language": "python",
   "name": "python3"
  },
  "language_info": {
   "codemirror_mode": {
    "name": "ipython",
    "version": 3
   },
   "file_extension": ".py",
   "mimetype": "text/x-python",
   "name": "python",
   "nbconvert_exporter": "python",
   "pygments_lexer": "ipython3",
   "version": "3.10.12"
  },
  "papermill": {
   "default_parameters": {},
   "duration": 7.746282,
   "end_time": "2023-11-06T02:33:25.154283",
   "environment_variables": {},
   "exception": true,
   "input_path": "__notebook__.ipynb",
   "output_path": "__notebook__.ipynb",
   "parameters": {},
   "start_time": "2023-11-06T02:33:17.408001",
   "version": "2.4.0"
  }
 },
 "nbformat": 4,
 "nbformat_minor": 5
}
